{
 "cells": [
  {
   "cell_type": "code",
   "execution_count": 1,
   "metadata": {},
   "outputs": [],
   "source": [
    "# imports \n",
    "import sys\n",
    "from pyspark.sql import SparkSession, functions, types"
   ]
  },
  {
   "cell_type": "code",
   "execution_count": 2,
   "metadata": {},
   "outputs": [],
   "source": [
    "# boilerplate \n",
    "spark = SparkSession.builder.appName('reddit averages').getOrCreate()\n",
    "spark.sparkContext.setLogLevel('WARN')\n",
    "\n",
    "assert sys.version_info >= (3, 5) # make sure we have Python 3.5+\n",
    "assert spark.version >= '2.3' # make sure we have Spark 2.3+"
   ]
  },
  {
   "cell_type": "code",
   "execution_count": 3,
   "metadata": {},
   "outputs": [],
   "source": [
    "# define schema\n",
    "comments_schema = types.StructType([\n",
    "    types.StructField('archived', types.BooleanType()),\n",
    "    types.StructField('author', types.StringType()),\n",
    "    types.StructField('author_flair_css_class', types.StringType()),\n",
    "    types.StructField('author_flair_text', types.StringType()),\n",
    "    types.StructField('body', types.StringType()),\n",
    "    types.StructField('controversiality', types.LongType()),\n",
    "    types.StructField('created_utc', types.StringType()),\n",
    "    types.StructField('distinguished', types.StringType()),\n",
    "    types.StructField('downs', types.LongType()),\n",
    "    types.StructField('edited', types.StringType()),\n",
    "    types.StructField('gilded', types.LongType()),\n",
    "    types.StructField('id', types.StringType()),\n",
    "    types.StructField('link_id', types.StringType()),\n",
    "    types.StructField('name', types.StringType()),\n",
    "    types.StructField('parent_id', types.StringType()),\n",
    "    types.StructField('retrieved_on', types.LongType()),\n",
    "    types.StructField('score', types.LongType()),\n",
    "    types.StructField('score_hidden', types.BooleanType()),\n",
    "    types.StructField('subreddit', types.StringType()),\n",
    "    types.StructField('subreddit_id', types.StringType()),\n",
    "    types.StructField('ups', types.LongType()),\n",
    "    #types.StructField('year', types.IntegerType()),\n",
    "    #types.StructField('month', types.IntegerType()),\n",
    "])"
   ]
  },
  {
   "cell_type": "code",
   "execution_count": 4,
   "metadata": {},
   "outputs": [],
   "source": [
    "def main(in_directory, out_directory):\n",
    "    comments = spark.read.json(in_directory)\n",
    "#     comments = spark.read.json(in_directory, schema=comments_schema)\n",
    "#     comments.show()\n",
    "#     comments.select(comments.subreddit).distinct().show()\n",
    "    # TODO: calculate averages, sort by subreddit. Sort by average score and output that too.\n",
    "    groups = comments.groupBy('subreddit')\n",
    "    averages = groups.agg(functions.avg(comments['score'])).cache()\n",
    "#     averages.show()\n",
    "    \n",
    "    averages_by_subreddit = averages.orderBy('subreddit')\n",
    "    averages_by_score = averages.orderBy('avg(score)', ascending=False)\n",
    "#     averages.show()\n",
    "    averages_by_subreddit.show()\n",
    "    averages_by_score.show()\n",
    "    \n",
    "    averages_by_subreddit.write.csv(out_directory + '-subreddit', mode='overwrite')\n",
    "    averages_by_score.write.csv(out_directory + '-score', mode='overwrite')"
   ]
  },
  {
   "cell_type": "code",
   "execution_count": 5,
   "metadata": {
    "code_folding": []
   },
   "outputs": [
    {
     "name": "stdout",
     "output_type": "stream",
     "text": [
      "+---------+------------------+\n",
      "|subreddit|        avg(score)|\n",
      "+---------+------------------+\n",
      "|  Cameras|1.2222222222222223|\n",
      "|Genealogy| 1.871313672922252|\n",
      "|optometry|1.4701986754966887|\n",
      "|    scala| 1.928939237899073|\n",
      "|     xkcd| 5.272939881689366|\n",
      "+---------+------------------+\n",
      "\n",
      "+---------+------------------+\n",
      "|subreddit|        avg(score)|\n",
      "+---------+------------------+\n",
      "|     xkcd| 5.272939881689366|\n",
      "|    scala| 1.928939237899073|\n",
      "|Genealogy| 1.871313672922252|\n",
      "|optometry|1.4701986754966887|\n",
      "|  Cameras|1.2222222222222223|\n",
      "+---------+------------------+\n",
      "\n"
     ]
    }
   ],
   "source": [
    "if __name__=='__main__':\n",
    "    in_directory = 'reddit-1/'\n",
    "    out_directory = 'output/'\n",
    "    main(in_directory, out_directory)\n"
   ]
  },
  {
   "cell_type": "code",
   "execution_count": null,
   "metadata": {},
   "outputs": [],
   "source": []
  },
  {
   "cell_type": "code",
   "execution_count": null,
   "metadata": {},
   "outputs": [],
   "source": []
  }
 ],
 "metadata": {
  "kernelspec": {
   "display_name": "Python 3",
   "language": "python",
   "name": "python3"
  },
  "language_info": {
   "codemirror_mode": {
    "name": "ipython",
    "version": 3
   },
   "file_extension": ".py",
   "mimetype": "text/x-python",
   "name": "python",
   "nbconvert_exporter": "python",
   "pygments_lexer": "ipython3",
   "version": "3.7.3"
  }
 },
 "nbformat": 4,
 "nbformat_minor": 2
}
